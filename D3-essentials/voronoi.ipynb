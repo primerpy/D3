{
 "cells": [
  {
   "cell_type": "code",
   "execution_count": 3,
   "metadata": {},
   "outputs": [
    {
     "name": "stdout",
     "output_type": "stream",
     "text": [
      "The py_d3 extension is already loaded. To reload it, use:\n",
      "  %reload_ext py_d3\n"
     ]
    }
   ],
   "source": [
    "%load_ext py_d3"
   ]
  },
  {
   "cell_type": "code",
   "execution_count": 7,
   "metadata": {},
   "outputs": [
    {
     "data": {
      "text/html": [
       "\n",
       "<script>\n",
       "requirejs.config({\n",
       "    paths: {\n",
       "        d3: \"//cdnjs.cloudflare.com/ajax/libs/d3/3.5.17/d3\"\n",
       "    }\n",
       "});\n",
       "\n",
       "require(['d3'], function(d3) {\n",
       "    window.d3 = d3;\n",
       "});\n",
       "</script>\n",
       "<script>\n",
       "_select = d3.select;\n",
       "\n",
       "d3.select3 = function(selection) {\n",
       "    return _select(\"#d3-cell-3\").select(selection);\n",
       "}\n",
       "d3.selectAll3 = function(selection) {\n",
       "    return _select(\"#d3-cell-3\").selectAll(selection);\n",
       "}\n",
       "</script>\n",
       "<g id=\"d3-cell-3\">\n",
       "  <body>\n",
       "    <script type=\"text/javascript\">\n",
       "\n",
       "      var width = 960;\n",
       "      var height = 500;\n",
       "\n",
       "      var vertices = d3.range(100)\n",
       "      .map(function(d){return[Math.random()*width, Math.random()*height]});\n",
       "\n",
       "      var voronoi = d3.voronoi().size([width, height]);\n",
       "      var svg = d3.select3(\"body\").append(\"svg\").attr(\"width\", \"100%\").attr(\"height\", \"100%\");\n",
       "\n",
       "      svg.append(\"g\").attr(\"class\", \"polygons\")\n",
       "      .selectAll(\"path\")\n",
       "      .data(voronoi.polygons(vertices))\n",
       "      .enter().append(\"path\").attr(\"d\",function(d){return \"M\"+d.join(\"L\")+\"Z\";});      \n",
       "      \n",
       "      svg.append(\"g\").attr(\"class\",\"fuel\")\n",
       "      .selectAll(\"circle\")\n",
       "      .data(vertices)\n",
       "      .enter().append(\"circle\")\n",
       "      .attr(\"cx\",function(d){return d[0];})\n",
       "      .attr(\"cy\",function(d){return d[1];})\n",
       "      .attr(\"r\",\"2.5\");\n",
       "      \n",
       "    </script>\n",
       "  </body>\n",
       "</g>"
      ],
      "text/plain": [
       "<IPython.core.display.HTML object>"
      ]
     },
     "metadata": {},
     "output_type": "display_data"
    }
   ],
   "source": [
    "%%d3\n",
    "  <body>\n",
    "    <script type=\"text/javascript\">\n",
    "\n",
    "      var width = 960;\n",
    "      var height = 500;\n",
    "\n",
    "      var vertices = d3.range(100)\n",
    "      .map(function(d){return[Math.random()*width, Math.random()*height]});\n",
    "\n",
    "      var voronoi = d3.voronoi().size([width, height]);\n",
    "      var svg = d3.select(\"body\").append(\"svg\").attr(\"width\", \"100%\").attr(\"height\", \"100%\");\n",
    "\n",
    "      svg.append(\"g\").attr(\"class\", \"polygons\")\n",
    "      .selectAll(\"path\")\n",
    "      .data(voronoi.polygons(vertices))\n",
    "      .enter().append(\"path\").attr(\"d\",function(d){return \"M\"+d.join(\"L\")+\"Z\";});      \n",
    "      \n",
    "      svg.append(\"g\").attr(\"class\",\"fuel\")\n",
    "      .selectAll(\"circle\")\n",
    "      .data(vertices)\n",
    "      .enter().append(\"circle\")\n",
    "      .attr(\"cx\",function(d){return d[0];})\n",
    "      .attr(\"cy\",function(d){return d[1];})\n",
    "      .attr(\"r\",\"2.5\");\n",
    "      \n",
    "    </script>\n",
    "  </body>"
   ]
  },
  {
   "cell_type": "code",
   "execution_count": null,
   "metadata": {
    "collapsed": true
   },
   "outputs": [],
   "source": []
  }
 ],
 "metadata": {
  "kernelspec": {
   "display_name": "Python [default]",
   "language": "python",
   "name": "python3"
  },
  "language_info": {
   "codemirror_mode": {
    "name": "ipython",
    "version": 3
   },
   "file_extension": ".py",
   "mimetype": "text/x-python",
   "name": "python",
   "nbconvert_exporter": "python",
   "pygments_lexer": "ipython3",
   "version": "3.5.3"
  }
 },
 "nbformat": 4,
 "nbformat_minor": 2
}
