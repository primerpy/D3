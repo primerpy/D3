{
 "cells": [
  {
   "cell_type": "code",
   "execution_count": 1,
   "metadata": {
    "collapsed": true
   },
   "outputs": [],
   "source": [
    "%load_ext py_d3"
   ]
  },
  {
   "cell_type": "code",
   "execution_count": null,
   "metadata": {
    "collapsed": true
   },
   "outputs": [],
   "source": [
    "%%d3\n",
    "\n",
    "<svg width=\"960\" height=\"800\"></svg>\n",
    "\n",
    "<script>\n",
    "    var dataArray = [25,26,28,32,37,45,55,70,90,120,135,150,160,168,172,177,180];\n",
    "var dataYears = ['2000','2001','2002','2003','2004','2005','2006','2007','2008','2009','2010','2011','2012','2013','2014','2015','2016'];\n",
    "\n",
    "var parseDate = d3.timeParse(\"%Y\");\n",
    "\n",
    "\n",
    "var height = 200;\n",
    "var width = 500;\n",
    "\n",
    "var margin = {left:50, right:50, top:40, bottom:0};\n",
    "\n",
    "var y = d3.scaleLinear()\n",
    "    .domain([0,d3.max(dataArray)])\n",
    "    .range([height,0]);\n",
    "\n",
    "var x = d3.scaleTime()\n",
    "    .domain(d3.extent(dataYears, function(d){return parseDate(d);}))\n",
    "    .range([0, width]);\n",
    "\n",
    "var yAxis = d3.axisLeft(y).ticks(4).tickPadding(10).tickSize(10);\n",
    "\n",
    "var xAxis = d3.axisBottom(x);\n",
    "\n",
    "var areaplot = d3.area()\n",
    "    .x(function(d,i){return x(parseDate(dataYears[i]));})\n",
    "    .y0(height)\n",
    "    .y1(function(d,i){return y(d);});\n",
    "\n",
    "var svg = d3.select(\"body\").append(\"svg\")\n",
    "    .attr(\"height\", \"100%\").attr(\"width\", \"100%\");\n",
    "\n",
    "var chartGroup = svg.append(\"g\")\n",
    "    .attr(\"transform\", \"translate(\"+margin.left+\",\"+margin.top+\")\");\n",
    "\n",
    "chartGroup.append(\"path\").attr(\"d\", areaplot(dataArray));\n",
    "\n",
    "chartGroup.append(\"g\").\n",
    "    attr(\"class\", \"axis y\")\n",
    "    .call(yAxis);\n",
    "\n",
    "chartGroup.append(\"g\")\n",
    "    .attr(\"class\", \"axis x\")\n",
    "    .attr(\"transform\", \"translate(0,\"+height+\")\")\n",
    "    .call(xAxis);\n",
    "</script>"
   ]
  }
 ],
 "metadata": {
  "kernelspec": {
   "display_name": "Python [default]",
   "language": "python",
   "name": "python3"
  },
  "language_info": {
   "codemirror_mode": {
    "name": "ipython",
    "version": 3
   },
   "file_extension": ".py",
   "mimetype": "text/x-python",
   "name": "python",
   "nbconvert_exporter": "python",
   "pygments_lexer": "ipython3",
   "version": "3.5.3"
  }
 },
 "nbformat": 4,
 "nbformat_minor": 2
}
